{
 "cells": [
  {
   "cell_type": "code",
   "execution_count": 1,
   "metadata": {},
   "outputs": [],
   "source": [
    "import pandas as pd\n",
    "import numpy as np\n",
    "from selenium import webdriver  # 웹 브라우저 컨트롤을 위한 프레임 워크\n",
    "from selenium.webdriver.common.by import By  # selenium 4.0 이상에서 사용"
   ]
  },
  {
   "cell_type": "code",
   "execution_count": 44,
   "metadata": {},
   "outputs": [],
   "source": [
    "pantehons = ['염수왕의 영혼', '아라칼리의 영혼', '솔라리스의 영혼', '루나리스의 영혼', '아버라스의 영혼', '그루스컬의 영혼', '유굴의 영혼', '샤카리의 영혼', '투코하마의 영혼', '랄라케쉬의 영혼', '가루칸의 영혼', '리슬라사의 영혼']"
   ]
  },
  {
   "cell_type": "code",
   "execution_count": 5,
   "metadata": {},
   "outputs": [],
   "source": [
    "from jamo import h2j, j2hcj"
   ]
  },
  {
   "cell_type": "code",
   "execution_count": 50,
   "metadata": {},
   "outputs": [
    {
     "name": "stdout",
     "output_type": "stream",
     "text": [
      "['ㅇ', 'ㅅ', 'ㅇ', 'ㅇ', 'ㅇ', 'ㅎ']\n",
      "['ㅇ', 'ㄹ', 'ㅋ', 'ㄹ', 'ㅇ', 'ㅇ', 'ㅎ']\n",
      "['ㅅ', 'ㄹ', 'ㄹ', 'ㅅ', 'ㅇ', 'ㅇ', 'ㅎ']\n",
      "['ㄹ', 'ㄴ', 'ㄹ', 'ㅅ', 'ㅇ', 'ㅇ', 'ㅎ']\n",
      "['ㅇ', 'ㅂ', 'ㄹ', 'ㅅ', 'ㅇ', 'ㅇ', 'ㅎ']\n",
      "['ㄱ', 'ㄹ', 'ㅅ', 'ㅋ', 'ㅇ', 'ㅇ', 'ㅎ']\n",
      "['ㅇ', 'ㄱ', 'ㅇ', 'ㅇ', 'ㅎ']\n",
      "['ㅅ', 'ㅋ', 'ㄹ', 'ㅇ', 'ㅇ', 'ㅎ']\n",
      "['ㅌ', 'ㅋ', 'ㅎ', 'ㅁ', 'ㅇ', 'ㅇ', 'ㅎ']\n",
      "['ㄹ', 'ㄹ', 'ㅋ', 'ㅅ', 'ㅇ', 'ㅇ', 'ㅎ']\n",
      "['ㄱ', 'ㄹ', 'ㅋ', 'ㅇ', 'ㅇ', 'ㅎ']\n",
      "['ㄹ', 'ㅅ', 'ㄹ', 'ㅅ', 'ㅇ', 'ㅇ', 'ㅎ']\n"
     ]
    }
   ],
   "source": [
    "for pantheon in pantehons:\n",
    "    result = []\n",
    "    pantheon = pantheon.replace(\" \", \"\")\n",
    "    \n",
    "    for word in pantheon:\n",
    "        result.append(j2hcj(h2j(word)[0]))\n",
    "    print(result)"
   ]
  },
  {
   "cell_type": "code",
   "execution_count": 51,
   "metadata": {},
   "outputs": [],
   "source": [
    "import pickle"
   ]
  },
  {
   "cell_type": "code",
   "execution_count": 36,
   "metadata": {},
   "outputs": [],
   "source": [
    "t = \"한글 테스트\""
   ]
  },
  {
   "cell_type": "code",
   "execution_count": 52,
   "metadata": {},
   "outputs": [],
   "source": [
    "def test():\n",
    "    print(\"test\")"
   ]
  },
  {
   "cell_type": "code",
   "execution_count": 55,
   "metadata": {},
   "outputs": [],
   "source": [
    "t = test\n",
    "t1 = test1"
   ]
  },
  {
   "cell_type": "code",
   "execution_count": 60,
   "metadata": {},
   "outputs": [
    {
     "ename": "SyntaxError",
     "evalue": "invalid syntax (490352404.py, line 1)",
     "output_type": "error",
     "traceback": [
      "\u001b[1;36m  Cell \u001b[1;32mIn[60], line 1\u001b[1;36m\u001b[0m\n\u001b[1;33m    t{a}()\u001b[0m\n\u001b[1;37m     ^\u001b[0m\n\u001b[1;31mSyntaxError\u001b[0m\u001b[1;31m:\u001b[0m invalid syntax\n"
     ]
    }
   ],
   "source": [
    "t{a}()"
   ]
  },
  {
   "cell_type": "code",
   "execution_count": 59,
   "metadata": {},
   "outputs": [],
   "source": [
    "a = 1"
   ]
  },
  {
   "cell_type": "code",
   "execution_count": null,
   "metadata": {},
   "outputs": [],
   "source": []
  }
 ],
 "metadata": {
  "kernelspec": {
   "display_name": "poe_word_quiz",
   "language": "python",
   "name": "python3"
  },
  "language_info": {
   "codemirror_mode": {
    "name": "ipython",
    "version": 3
   },
   "file_extension": ".py",
   "mimetype": "text/x-python",
   "name": "python",
   "nbconvert_exporter": "python",
   "pygments_lexer": "ipython3",
   "version": "3.10.8"
  },
  "orig_nbformat": 4,
  "vscode": {
   "interpreter": {
    "hash": "bdd959903effc76e7705af7b219348c6caca57f0da07fb3a25c00a2c8715506e"
   }
  }
 },
 "nbformat": 4,
 "nbformat_minor": 2
}
